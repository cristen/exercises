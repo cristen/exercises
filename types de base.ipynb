{
 "cells": [
  {
   "cell_type": "markdown",
   "metadata": {},
   "source": [
    "# Donuts"
   ]
  },
  {
   "cell_type": "markdown",
   "metadata": {},
   "source": [
    "Retourner une chaîne de caractères sous la forme:\n",
    "\n",
    "'Nombre de donuts: <count>'\n",
    "    \n",
    "Attention si le nombre de donuts > 10 on affichera \"Beaucoup\" au lieu du compteur"
   ]
  },
  {
   "cell_type": "code",
   "execution_count": null,
   "metadata": {},
   "outputs": [],
   "source": [
    "def donuts(count)\n",
    "    # +++ votre code +++\n",
    "    return"
   ]
  },
  {
   "cell_type": "markdown",
   "metadata": {},
   "source": [
    "# Les deux bouts"
   ]
  },
  {
   "cell_type": "markdown",
   "metadata": {},
   "source": [
    "À partir d’une chaîne s, retournez une chaîne de caractères constituée des 2 premiers et 2 derniers caractères de \"s\".\n",
    "\n",
    "Par exemple : \"Spring\" -> \"Spng\"\n",
    "\n",
    "Si la chaîne de caractères < 2 on retournera une chaîne vide"
   ]
  },
  {
   "cell_type": "code",
   "execution_count": 1,
   "metadata": {},
   "outputs": [],
   "source": [
    "def both_ends(s):\n",
    "    # +++ votre code +++\n",
    "    return"
   ]
  },
  {
   "cell_type": "markdown",
   "metadata": {},
   "source": [
    "# Corriger le début…"
   ]
  },
  {
   "cell_type": "markdown",
   "metadata": {},
   "source": [
    "À partir d'une chaîne s, retourzen une chaîne de caractères où toutes les occurences de la première lettre auront été changés en ’*’, sauf le premier caractère.\n",
    "\n",
    "ex : \"babble\" -> \"ba**le\""
   ]
  },
  {
   "cell_type": "code",
   "execution_count": 2,
   "metadata": {},
   "outputs": [],
   "source": [
    "def fix_start(s):\n",
    "    # +++ votre code +++\n",
    "    return"
   ]
  },
  {
   "cell_type": "markdown",
   "metadata": {},
   "source": [
    "# Mixup"
   ]
  },
  {
   "cell_type": "markdown",
   "metadata": {},
   "source": [
    "À partir de deux chaînes a et b, retournez une seule chaîne de caractères avec a et b séparés par un espace, sauf qu'il faudra échanger les 2 premiers caractères de chaque chaîne.\n",
    "\n",
    "ex: ’mix’, ’pod’ -> ’pox mid’"
   ]
  },
  {
   "cell_type": "code",
   "execution_count": 3,
   "metadata": {},
   "outputs": [],
   "source": [
    "def mix_up(a, b):\n",
    "    # +++ votre code +++\n",
    "    return"
   ]
  },
  {
   "cell_type": "code",
   "execution_count": null,
   "metadata": {},
   "outputs": [],
   "source": []
  }
 ],
 "metadata": {
  "kernelspec": {
   "display_name": "Python 3",
   "language": "python",
   "name": "python3"
  },
  "language_info": {
   "codemirror_mode": {
    "name": "ipython",
    "version": 3
   },
   "file_extension": ".py",
   "mimetype": "text/x-python",
   "name": "python",
   "nbconvert_exporter": "python",
   "pygments_lexer": "ipython3",
   "version": "3.6.4"
  }
 },
 "nbformat": 4,
 "nbformat_minor": 2
}
